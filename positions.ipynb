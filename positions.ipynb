{
 "cells": [
  {
   "cell_type": "code",
   "execution_count": 1,
   "id": "9cbe6105-ff89-44db-83e1-2caa208ad756",
   "metadata": {},
   "outputs": [],
   "source": [
    "import pandas as pd\n",
    "import positions as pt\n",
    "import vasicek as vc\n",
    "import valuation as vn"
   ]
  },
  {
   "cell_type": "code",
   "execution_count": 2,
   "id": "a8818a4e-f2f3-4b1b-b6b0-8fd0e1fcce32",
   "metadata": {},
   "outputs": [
    {
     "name": "stdout",
     "output_type": "stream",
     "text": [
      "2011-09-30T00:00:00.000000000\n",
      "2011-10-31T00:00:00.000000000\n",
      "2011-11-30T00:00:00.000000000\n",
      "2011-12-30T00:00:00.000000000\n",
      "2012-01-31T00:00:00.000000000\n",
      "2012-02-29T00:00:00.000000000\n",
      "2012-03-30T00:00:00.000000000\n",
      "2012-04-30T00:00:00.000000000\n",
      "2012-05-31T00:00:00.000000000\n",
      "2012-06-29T00:00:00.000000000\n",
      "2012-07-31T00:00:00.000000000\n",
      "2012-08-31T00:00:00.000000000\n",
      "2012-09-28T00:00:00.000000000\n",
      "2012-10-31T00:00:00.000000000\n",
      "2012-11-30T00:00:00.000000000\n",
      "2012-12-31T00:00:00.000000000\n",
      "2013-01-31T00:00:00.000000000\n",
      "2013-02-28T00:00:00.000000000\n",
      "2013-03-29T00:00:00.000000000\n",
      "2013-04-30T00:00:00.000000000\n",
      "2013-05-28T00:00:00.000000000\n",
      "2013-06-28T00:00:00.000000000\n",
      "2013-07-31T00:00:00.000000000\n",
      "2013-08-29T00:00:00.000000000\n",
      "2013-09-30T00:00:00.000000000\n",
      "2013-10-31T00:00:00.000000000\n",
      "2013-11-28T00:00:00.000000000\n",
      "2013-12-31T00:00:00.000000000\n",
      "2014-01-30T00:00:00.000000000\n",
      "2014-02-28T00:00:00.000000000\n",
      "2014-03-31T00:00:00.000000000\n",
      "2014-04-30T00:00:00.000000000\n",
      "2014-05-29T00:00:00.000000000\n",
      "2014-06-30T00:00:00.000000000\n",
      "2014-07-31T00:00:00.000000000\n",
      "2014-08-29T00:00:00.000000000\n",
      "2014-09-29T00:00:00.000000000\n",
      "2014-10-31T00:00:00.000000000\n",
      "2014-11-28T00:00:00.000000000\n",
      "2014-12-31T00:00:00.000000000\n",
      "2015-01-30T00:00:00.000000000\n",
      "2015-02-27T00:00:00.000000000\n",
      "2015-03-31T00:00:00.000000000\n",
      "2015-04-30T00:00:00.000000000\n",
      "2015-05-28T00:00:00.000000000\n",
      "2015-06-30T00:00:00.000000000\n",
      "2015-07-30T00:00:00.000000000\n",
      "2015-08-28T00:00:00.000000000\n",
      "2015-09-30T00:00:00.000000000\n",
      "2015-10-29T00:00:00.000000000\n",
      "2015-11-25T00:00:00.000000000\n",
      "2015-12-30T00:00:00.000000000\n",
      "2016-01-29T00:00:00.000000000\n",
      "2016-02-29T00:00:00.000000000\n",
      "2016-03-31T00:00:00.000000000\n",
      "2016-04-29T00:00:00.000000000\n",
      "2016-05-26T00:00:00.000000000\n",
      "2016-06-30T00:00:00.000000000\n",
      "2016-07-29T00:00:00.000000000\n",
      "2016-08-31T00:00:00.000000000\n",
      "2016-09-28T00:00:00.000000000\n",
      "2016-10-31T00:00:00.000000000\n",
      "2016-11-30T00:00:00.000000000\n",
      "2016-12-30T00:00:00.000000000\n",
      "2017-01-31T00:00:00.000000000\n",
      "2017-02-28T00:00:00.000000000\n",
      "2017-03-31T00:00:00.000000000\n",
      "2017-04-28T00:00:00.000000000\n",
      "2017-05-31T00:00:00.000000000\n",
      "2017-06-30T00:00:00.000000000\n",
      "2017-07-31T00:00:00.000000000\n",
      "2017-08-31T00:00:00.000000000\n",
      "2017-09-28T00:00:00.000000000\n",
      "2017-10-31T00:00:00.000000000\n",
      "2017-11-30T00:00:00.000000000\n",
      "2017-12-21T00:00:00.000000000\n",
      "2018-01-31T00:00:00.000000000\n",
      "2018-02-28T00:00:00.000000000\n",
      "2018-03-29T00:00:00.000000000\n",
      "2018-04-30T00:00:00.000000000\n",
      "2018-05-30T00:00:00.000000000\n",
      "2018-06-29T00:00:00.000000000\n",
      "2018-07-31T00:00:00.000000000\n",
      "2018-08-31T00:00:00.000000000\n",
      "2018-09-27T00:00:00.000000000\n",
      "2018-10-31T00:00:00.000000000\n",
      "2018-11-27T00:00:00.000000000\n",
      "2018-12-19T00:00:00.000000000\n",
      "2019-01-31T00:00:00.000000000\n",
      "2019-02-28T00:00:00.000000000\n",
      "2019-03-29T00:00:00.000000000\n",
      "2019-04-30T00:00:00.000000000\n",
      "2019-05-30T00:00:00.000000000\n",
      "2019-06-28T00:00:00.000000000\n",
      "2019-07-31T00:00:00.000000000\n",
      "2019-08-30T00:00:00.000000000\n",
      "2019-09-30T00:00:00.000000000\n",
      "2019-10-31T00:00:00.000000000\n",
      "2019-11-29T00:00:00.000000000\n",
      "2019-12-31T00:00:00.000000000\n",
      "2020-01-31T00:00:00.000000000\n",
      "2020-02-28T00:00:00.000000000\n",
      "2020-03-31T00:00:00.000000000\n",
      "2020-04-30T00:00:00.000000000\n",
      "2020-05-29T00:00:00.000000000\n",
      "2020-06-24T00:00:00.000000000\n",
      "2020-07-30T00:00:00.000000000\n",
      "2020-08-31T00:00:00.000000000\n",
      "2020-09-30T00:00:00.000000000\n",
      "2020-10-30T00:00:00.000000000\n",
      "2020-11-30T00:00:00.000000000\n",
      "2020-12-29T00:00:00.000000000\n",
      "2021-01-29T00:00:00.000000000\n",
      "2021-02-26T00:00:00.000000000\n",
      "2021-03-31T00:00:00.000000000\n",
      "2021-04-30T00:00:00.000000000\n",
      "2021-05-27T00:00:00.000000000\n",
      "2021-06-30T00:00:00.000000000\n",
      "2021-07-30T00:00:00.000000000\n",
      "2021-08-31T00:00:00.000000000\n"
     ]
    }
   ],
   "source": [
    "%run vasicek.ipynb\n",
    "#%run data_usd_monthly.ipynb\n",
    "#%run monthly_data.ipynb"
   ]
  },
  {
   "cell_type": "code",
   "execution_count": null,
   "id": "fe578ff8-8d3d-41e6-9a2e-486bb4c5816c",
   "metadata": {},
   "outputs": [],
   "source": [
    "'''\n",
    "model_swap_rates = pd.ExcelFile('fullperiod_modelrates.xlsx')\n",
    "parameter_data = pd.ExcelFile('fullperiod_parameters.xlsx')\n",
    "weight_data = pd.ExcelFile('fullperiod_weights.xlsx')\n",
    "\n",
    "model_swap_rates = model_swap_rates.parse('Sheet1')\n",
    "parameter_data = parameter_data.parse('Sheet1')\n",
    "weight_data = weight_data.parse('Sheet1')\n",
    "\n",
    "model_swap_rates = model_swap_rates.drop(['Unnamed: 0'], axis=1)\n",
    "parameter_data = parameter_data.drop(['Unnamed: 0'], axis=1)\n",
    "weight_data = weight_data.drop(['Unnamed: 0'], axis=1)\n",
    "'''"
   ]
  },
  {
   "cell_type": "code",
   "execution_count": 10,
   "id": "a8eb5eee-4d97-4255-bc66-dc6b76a574d9",
   "metadata": {},
   "outputs": [],
   "source": [
    "# Cubic data for dirty price valuation\n",
    "boot_ois = vn.bootstrap_ois(data1_ois, \"Act/360\")\n",
    "cub_ois = vn.cubic_ois(boot_ois)\n",
    "cub_swap = vn.cubic_swap(data1_swap_trade)\n",
    "cub_libor = vn.cubic_libor(data1_libor)"
   ]
  },
  {
   "cell_type": "code",
   "execution_count": 11,
   "id": "8bd898f7-e7a1-4011-b141-618f3a585ac7",
   "metadata": {},
   "outputs": [
    {
     "name": "stderr",
     "output_type": "stream",
     "text": [
      "C:\\Users\\Miro_\\AppData\\Local\\Temp/ipykernel_4392/1498460402.py:3: SettingWithCopyWarning: \n",
      "A value is trying to be set on a copy of a slice from a DataFrame.\n",
      "Try using .loc[row_indexer,col_indexer] = value instead\n",
      "\n",
      "See the caveats in the documentation: https://pandas.pydata.org/pandas-docs/stable/user_guide/indexing.html#returning-a-view-versus-a-copy\n",
      "  data1_libor_3M_original['date2'] =  data1_libor_3M_original['date'].dt.to_period('M')\n"
     ]
    }
   ],
   "source": [
    "# Adding extra YYYY/MM date column to the dataframes\n",
    "data1_swap_trade['date2'] = data1_swap_trade['date'].dt.to_period('M')\n",
    "data1_libor_3M_original['date2'] =  data1_libor_3M_original['date'].dt.to_period('M')\n",
    "model_swap_rates['date2'] = model_swap_rates['date'].dt.to_period('M')\n",
    "weight_data['date2'] = weight_data['date'].dt.to_period('M')"
   ]
  },
  {
   "cell_type": "code",
   "execution_count": 1,
   "id": "183c7785-baab-44a4-94a7-b0fbc87e2b9d",
   "metadata": {},
   "outputs": [
    {
     "ename": "NameError",
     "evalue": "name 'pd' is not defined",
     "output_type": "error",
     "traceback": [
      "\u001b[1;31m---------------------------------------------------------------------------\u001b[0m",
      "\u001b[1;31mNameError\u001b[0m                                 Traceback (most recent call last)",
      "\u001b[1;32m~\\AppData\\Local\\Temp/ipykernel_8516/1796516556.py\u001b[0m in \u001b[0;36m<module>\u001b[1;34m\u001b[0m\n\u001b[0;32m      1\u001b[0m \u001b[1;31m# \"Infrastructure\" for creating the dictionary of books\u001b[0m\u001b[1;33m\u001b[0m\u001b[1;33m\u001b[0m\u001b[0m\n\u001b[1;32m----> 2\u001b[1;33m \u001b[0mdates\u001b[0m \u001b[1;33m=\u001b[0m \u001b[0mpd\u001b[0m\u001b[1;33m.\u001b[0m\u001b[0mdate_range\u001b[0m\u001b[1;33m(\u001b[0m\u001b[1;34m'2012-01'\u001b[0m\u001b[1;33m,\u001b[0m \u001b[1;34m'2022-01'\u001b[0m\u001b[1;33m,\u001b[0m \u001b[0mfreq\u001b[0m\u001b[1;33m=\u001b[0m\u001b[1;34m'M'\u001b[0m\u001b[1;33m)\u001b[0m\u001b[1;33m.\u001b[0m\u001b[0mto_period\u001b[0m\u001b[1;33m(\u001b[0m\u001b[1;34m'M'\u001b[0m\u001b[1;33m)\u001b[0m\u001b[1;33m\u001b[0m\u001b[1;33m\u001b[0m\u001b[0m\n\u001b[0m\u001b[0;32m      3\u001b[0m \u001b[0mtemp_book\u001b[0m \u001b[1;33m=\u001b[0m \u001b[0mpt\u001b[0m\u001b[1;33m.\u001b[0m\u001b[0mcreate_book\u001b[0m\u001b[1;33m(\u001b[0m\u001b[1;33m)\u001b[0m\u001b[1;33m\u001b[0m\u001b[1;33m\u001b[0m\u001b[0m\n\u001b[0;32m      4\u001b[0m \u001b[0mbook_dict\u001b[0m \u001b[1;33m=\u001b[0m \u001b[0mpt\u001b[0m\u001b[1;33m.\u001b[0m\u001b[0mcreate_dict_of_books\u001b[0m\u001b[1;33m(\u001b[0m\u001b[1;33m)\u001b[0m\u001b[1;33m\u001b[0m\u001b[1;33m\u001b[0m\u001b[0m\n",
      "\u001b[1;31mNameError\u001b[0m: name 'pd' is not defined"
     ]
    }
   ],
   "source": [
    "# \"Infrastructure\" for creating the dictionary of books\n",
    "dates = pd.date_range('2015-01', '2022-01', freq='M').to_period('M')\n",
    "temp_book = pt.create_book()\n",
    "book_dict = pt.create_dict_of_books()"
   ]
  },
  {
   "cell_type": "code",
   "execution_count": 1,
   "id": "5782bde2-a4cb-4f92-b35d-36e1b2da63aa",
   "metadata": {},
   "outputs": [],
   "source": [
    "lev_multiplier = 16.327853889313875"
   ]
  },
  {
   "cell_type": "code",
   "execution_count": 2,
   "id": "da6cc397-816c-47a1-8bc8-e48d6d910980",
   "metadata": {},
   "outputs": [
    {
     "ename": "NameError",
     "evalue": "name 'dates' is not defined",
     "output_type": "error",
     "traceback": [
      "\u001b[1;31m---------------------------------------------------------------------------\u001b[0m",
      "\u001b[1;31mNameError\u001b[0m                                 Traceback (most recent call last)",
      "\u001b[1;32m~\\AppData\\Local\\Temp/ipykernel_8516/2719446657.py\u001b[0m in \u001b[0;36m<module>\u001b[1;34m\u001b[0m\n\u001b[0;32m      1\u001b[0m \u001b[0mclosed_trades\u001b[0m \u001b[1;33m=\u001b[0m \u001b[1;33m[\u001b[0m\u001b[1;33m]\u001b[0m\u001b[1;33m\u001b[0m\u001b[1;33m\u001b[0m\u001b[0m\n\u001b[1;32m----> 2\u001b[1;33m \u001b[1;32mfor\u001b[0m \u001b[0mdate\u001b[0m \u001b[1;32min\u001b[0m \u001b[0mdates\u001b[0m\u001b[1;33m:\u001b[0m\u001b[1;33m\u001b[0m\u001b[1;33m\u001b[0m\u001b[0m\n\u001b[0m\u001b[0;32m      3\u001b[0m     \u001b[0mmodel_size\u001b[0m \u001b[1;33m=\u001b[0m \u001b[0mmodel_swap_rates\u001b[0m\u001b[1;33m[\u001b[0m\u001b[0mmodel_swap_rates\u001b[0m\u001b[1;33m[\u001b[0m\u001b[1;34m'date2'\u001b[0m\u001b[1;33m]\u001b[0m \u001b[1;33m==\u001b[0m \u001b[0mdate\u001b[0m\u001b[1;33m]\u001b[0m\u001b[1;33m.\u001b[0m\u001b[0msize\u001b[0m\u001b[1;33m\u001b[0m\u001b[1;33m\u001b[0m\u001b[0m\n\u001b[0;32m      4\u001b[0m     \u001b[0mswap_size\u001b[0m \u001b[1;33m=\u001b[0m \u001b[0mdata1_swap_trade\u001b[0m\u001b[1;33m[\u001b[0m\u001b[0mdata1_swap_trade\u001b[0m\u001b[1;33m[\u001b[0m\u001b[1;34m'date2'\u001b[0m\u001b[1;33m]\u001b[0m \u001b[1;33m==\u001b[0m \u001b[0mdate\u001b[0m\u001b[1;33m]\u001b[0m\u001b[1;33m.\u001b[0m\u001b[0msize\u001b[0m\u001b[1;33m\u001b[0m\u001b[1;33m\u001b[0m\u001b[0m\n\u001b[0;32m      5\u001b[0m     \u001b[0mdata1_libor_3M_original_size\u001b[0m \u001b[1;33m=\u001b[0m \u001b[0mdata1_libor_3M_original\u001b[0m\u001b[1;33m[\u001b[0m\u001b[0mdata1_libor_3M_original\u001b[0m\u001b[1;33m[\u001b[0m\u001b[1;34m'date2'\u001b[0m\u001b[1;33m]\u001b[0m \u001b[1;33m==\u001b[0m \u001b[0mdate\u001b[0m\u001b[1;33m]\u001b[0m\u001b[1;33m.\u001b[0m\u001b[0msize\u001b[0m\u001b[1;33m\u001b[0m\u001b[1;33m\u001b[0m\u001b[0m\n",
      "\u001b[1;31mNameError\u001b[0m: name 'dates' is not defined"
     ]
    }
   ],
   "source": [
    "closed_trades = []\n",
    "for date in dates:\n",
    "    model_size = model_swap_rates[model_swap_rates['date2'] == date].size\n",
    "    swap_size = data1_swap_trade[data1_swap_trade['date2'] == date].size\n",
    "    data1_libor_3M_original_size = data1_libor_3M_original[data1_libor_3M_original['date2'] == date].size\n",
    "    weight_size = weight_data[weight_data['date2'] == date].size\n",
    "    if model_size != 0 and swap_size != 0 and data1_libor_3M_original_size != 0 and weight_size != 0:\n",
    "        long_date = data1_swap_trade[data1_swap_trade['date2']==date].values[0][0]\n",
    "        temp_book = pt.update_book(temp_book, data1_libor_3M_original, data1_swap_trade, date)\n",
    "        temp_book = pt.add_to_book(date, temp_book, model_swap_rates, data1_swap_trade, data1_libor_3M_original, weight_data, 0.0005, 100*lev_multiplier, 3, 6)\n",
    "        temp_book = pt.update_current_dirty_prices(long_date, temp_book, cub_libor, cub_swap, cub_ois, \"Act/360\", \"30/360\", 3, 6)\n",
    "        book_dict[date] = temp_book\n",
    "        temp_book, closes_convergence = pt.clean_book_convergence(temp_book)\n",
    "        temp_book, closes_maturity = pt.clean_book_maturity(temp_book)\n",
    "        closed_trades.append([date, closes_convergence + closes_maturity])\n",
    "        temp_book = pt.update_latest_dirty_prices(long_date, temp_book, cub_libor, cub_swap, cub_ois, \"Act/360\", \"30/360\", 3, 6)\n",
    "    else:\n",
    "        #long_date = data1_libor_3M_original[data1_libor_3M_original['date2']==date].values[0][0] # poista\n",
    "        temp_book = pt.update_book2(temp_book, data1_libor_3M_original, date)\n",
    "        #temp_book = pt.update_current_dirty_prices(long_date, temp_book, cub_libor, cub_swap, cub_ois, \"Act/360\", \"30/360\", 3, 6) # poista\n",
    "        book_dict[date] = temp_book\n",
    "        temp_book, closes_convergence = pt.clean_book_convergence(temp_book)\n",
    "        temp_book, closes_maturity = pt.clean_book_maturity(temp_book)\n",
    "        closed_trades.append([date, closes_convergence*3 + closes_maturity*2])\n",
    "        #temp_book = pt.update_latest_dirty_prices(long_date, temp_book, cub_libor, cub_swap, cub_ois, \"Act/360\", \"30/360\", 3, 6) # poista\n",
    "closed_trades_df = pd.DataFrame(closed_trades, columns=['date','closed count'])"
   ]
  }
 ],
 "metadata": {
  "kernelspec": {
   "display_name": "Python 3 (ipykernel)",
   "language": "python",
   "name": "python3"
  },
  "language_info": {
   "codemirror_mode": {
    "name": "ipython",
    "version": 3
   },
   "file_extension": ".py",
   "mimetype": "text/x-python",
   "name": "python",
   "nbconvert_exporter": "python",
   "pygments_lexer": "ipython3",
   "version": "3.9.7"
  }
 },
 "nbformat": 4,
 "nbformat_minor": 5
}
