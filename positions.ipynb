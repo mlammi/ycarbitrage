{
 "cells": [
  {
   "cell_type": "code",
   "execution_count": 1,
   "id": "9cbe6105-ff89-44db-83e1-2caa208ad756",
   "metadata": {},
   "outputs": [],
   "source": [
    "import pandas as pd\n",
    "import positions as pt\n",
    "import vasicek as vc\n",
    "import valuation as vn\n",
    "import cir as ci"
   ]
  },
  {
   "cell_type": "code",
   "execution_count": 6,
   "id": "a8818a4e-f2f3-4b1b-b6b0-8fd0e1fcce32",
   "metadata": {},
   "outputs": [],
   "source": [
    "%run vasicek.ipynb\n",
    "#%run data_usd_monthly.ipynb\n",
    "#%run monthly_data.ipynb\n",
    "#%run cir.ipynb"
   ]
  },
  {
   "cell_type": "code",
   "execution_count": 3,
   "id": "fe578ff8-8d3d-41e6-9a2e-486bb4c5816c",
   "metadata": {},
   "outputs": [
    {
     "data": {
      "text/plain": [
       "\"\\nmodel_swap_rates = pd.ExcelFile('fullperiod_modelrates.xlsx')\\nparameter_data = pd.ExcelFile('fullperiod_parameters.xlsx')\\nweight_data = pd.ExcelFile('fullperiod_weights.xlsx')\\n\\nmodel_swap_rates = model_swap_rates.parse('Sheet1')\\nparameter_data = parameter_data.parse('Sheet1')\\nweight_data = weight_data.parse('Sheet1')\\n\\nmodel_swap_rates = model_swap_rates.drop(['Unnamed: 0'], axis=1)\\nparameter_data = parameter_data.drop(['Unnamed: 0'], axis=1)\\nweight_data = weight_data.drop(['Unnamed: 0'], axis=1)\\n\""
      ]
     },
     "execution_count": 3,
     "metadata": {},
     "output_type": "execute_result"
    }
   ],
   "source": [
    "'''\n",
    "model_swap_rates = pd.ExcelFile('fullperiod_modelrates.xlsx')\n",
    "parameter_data = pd.ExcelFile('fullperiod_parameters.xlsx')\n",
    "weight_data = pd.ExcelFile('fullperiod_weights.xlsx')\n",
    "\n",
    "model_swap_rates = model_swap_rates.parse('Sheet1')\n",
    "parameter_data = parameter_data.parse('Sheet1')\n",
    "weight_data = weight_data.parse('Sheet1')\n",
    "\n",
    "model_swap_rates = model_swap_rates.drop(['Unnamed: 0'], axis=1)\n",
    "parameter_data = parameter_data.drop(['Unnamed: 0'], axis=1)\n",
    "weight_data = weight_data.drop(['Unnamed: 0'], axis=1)\n",
    "'''"
   ]
  },
  {
   "cell_type": "code",
   "execution_count": 7,
   "id": "a8eb5eee-4d97-4255-bc66-dc6b76a574d9",
   "metadata": {},
   "outputs": [],
   "source": [
    "# Cubic data for dirty price valuation\n",
    "boot_ois = vn.bootstrap_ois(data1_ois, \"Act/360\")\n",
    "cub_ois = vn.cubic_ois(boot_ois)\n",
    "cub_swap = vn.cubic_swap(data1_swap_trade)\n",
    "cub_libor = vn.cubic_libor(data1_libor)"
   ]
  },
  {
   "cell_type": "code",
   "execution_count": 8,
   "id": "8bd898f7-e7a1-4011-b141-618f3a585ac7",
   "metadata": {},
   "outputs": [
    {
     "name": "stderr",
     "output_type": "stream",
     "text": [
      "C:\\Users\\Miro_\\AppData\\Local\\Temp/ipykernel_14320/1498460402.py:3: SettingWithCopyWarning: \n",
      "A value is trying to be set on a copy of a slice from a DataFrame.\n",
      "Try using .loc[row_indexer,col_indexer] = value instead\n",
      "\n",
      "See the caveats in the documentation: https://pandas.pydata.org/pandas-docs/stable/user_guide/indexing.html#returning-a-view-versus-a-copy\n",
      "  data1_libor_3M_original['date2'] =  data1_libor_3M_original['date'].dt.to_period('M')\n"
     ]
    },
    {
     "ename": "NameError",
     "evalue": "name 'model_swap_rates' is not defined",
     "output_type": "error",
     "traceback": [
      "\u001b[1;31m---------------------------------------------------------------------------\u001b[0m",
      "\u001b[1;31mNameError\u001b[0m                                 Traceback (most recent call last)",
      "\u001b[1;32m~\\AppData\\Local\\Temp/ipykernel_14320/1498460402.py\u001b[0m in \u001b[0;36m<module>\u001b[1;34m\u001b[0m\n\u001b[0;32m      2\u001b[0m \u001b[0mdata1_swap_trade\u001b[0m\u001b[1;33m[\u001b[0m\u001b[1;34m'date2'\u001b[0m\u001b[1;33m]\u001b[0m \u001b[1;33m=\u001b[0m \u001b[0mdata1_swap_trade\u001b[0m\u001b[1;33m[\u001b[0m\u001b[1;34m'date'\u001b[0m\u001b[1;33m]\u001b[0m\u001b[1;33m.\u001b[0m\u001b[0mdt\u001b[0m\u001b[1;33m.\u001b[0m\u001b[0mto_period\u001b[0m\u001b[1;33m(\u001b[0m\u001b[1;34m'M'\u001b[0m\u001b[1;33m)\u001b[0m\u001b[1;33m\u001b[0m\u001b[1;33m\u001b[0m\u001b[0m\n\u001b[0;32m      3\u001b[0m \u001b[0mdata1_libor_3M_original\u001b[0m\u001b[1;33m[\u001b[0m\u001b[1;34m'date2'\u001b[0m\u001b[1;33m]\u001b[0m \u001b[1;33m=\u001b[0m  \u001b[0mdata1_libor_3M_original\u001b[0m\u001b[1;33m[\u001b[0m\u001b[1;34m'date'\u001b[0m\u001b[1;33m]\u001b[0m\u001b[1;33m.\u001b[0m\u001b[0mdt\u001b[0m\u001b[1;33m.\u001b[0m\u001b[0mto_period\u001b[0m\u001b[1;33m(\u001b[0m\u001b[1;34m'M'\u001b[0m\u001b[1;33m)\u001b[0m\u001b[1;33m\u001b[0m\u001b[1;33m\u001b[0m\u001b[0m\n\u001b[1;32m----> 4\u001b[1;33m \u001b[0mmodel_swap_rates\u001b[0m\u001b[1;33m[\u001b[0m\u001b[1;34m'date2'\u001b[0m\u001b[1;33m]\u001b[0m \u001b[1;33m=\u001b[0m \u001b[0mmodel_swap_rates\u001b[0m\u001b[1;33m[\u001b[0m\u001b[1;34m'date'\u001b[0m\u001b[1;33m]\u001b[0m\u001b[1;33m.\u001b[0m\u001b[0mdt\u001b[0m\u001b[1;33m.\u001b[0m\u001b[0mto_period\u001b[0m\u001b[1;33m(\u001b[0m\u001b[1;34m'M'\u001b[0m\u001b[1;33m)\u001b[0m\u001b[1;33m\u001b[0m\u001b[1;33m\u001b[0m\u001b[0m\n\u001b[0m\u001b[0;32m      5\u001b[0m \u001b[0mweight_data\u001b[0m\u001b[1;33m[\u001b[0m\u001b[1;34m'date2'\u001b[0m\u001b[1;33m]\u001b[0m \u001b[1;33m=\u001b[0m \u001b[0mweight_data\u001b[0m\u001b[1;33m[\u001b[0m\u001b[1;34m'date'\u001b[0m\u001b[1;33m]\u001b[0m\u001b[1;33m.\u001b[0m\u001b[0mdt\u001b[0m\u001b[1;33m.\u001b[0m\u001b[0mto_period\u001b[0m\u001b[1;33m(\u001b[0m\u001b[1;34m'M'\u001b[0m\u001b[1;33m)\u001b[0m\u001b[1;33m\u001b[0m\u001b[1;33m\u001b[0m\u001b[0m\n",
      "\u001b[1;31mNameError\u001b[0m: name 'model_swap_rates' is not defined"
     ]
    }
   ],
   "source": [
    "# Adding extra YYYY/MM date column to the dataframes\n",
    "data1_swap_trade['date2'] = data1_swap_trade['date'].dt.to_period('M')\n",
    "data1_libor_3M_original['date2'] =  data1_libor_3M_original['date'].dt.to_period('M')\n",
    "model_swap_rates['date2'] = model_swap_rates['date'].dt.to_period('M')\n",
    "weight_data['date2'] = weight_data['date'].dt.to_period('M')"
   ]
  },
  {
   "cell_type": "code",
   "execution_count": null,
   "id": "183c7785-baab-44a4-94a7-b0fbc87e2b9d",
   "metadata": {},
   "outputs": [],
   "source": [
    "# \"Infrastructure\" for creating the dictionary of books\n",
    "dates = pd.date_range('2012-01', '2022-01', freq='M').to_period('M')\n",
    "temp_book = pt.create_book()\n",
    "book_dict = pt.create_dict_of_books()"
   ]
  },
  {
   "cell_type": "code",
   "execution_count": null,
   "id": "da6cc397-816c-47a1-8bc8-e48d6d910980",
   "metadata": {},
   "outputs": [],
   "source": [
    "closed_trades = []\n",
    "limit = 0.0005 # This is changed between 5bps, 10bps and 20bps\n",
    "nominal = 100\n",
    "step_float = 3\n",
    "step_fixed = 6\n",
    "conv_float = \"Act/360\"\n",
    "conv_fixed = \"30/360\"\n",
    "for date in dates:\n",
    "    model_size = model_swap_rates[model_swap_rates['date2'] == date].size\n",
    "    swap_size = data1_swap_trade[data1_swap_trade['date2'] == date].size\n",
    "    data1_libor_3M_original_size = data1_libor_3M_original[data1_libor_3M_original['date2'] == date].size\n",
    "    weight_size = weight_data[weight_data['date2'] == date].size\n",
    "    if model_size != 0 and swap_size != 0 and data1_libor_3M_original_size != 0 and weight_size != 0:\n",
    "        long_date = data1_swap_trade[data1_swap_trade['date2']==date].values[0][0]\n",
    "        temp_book = pt.update_book(temp_book, data1_libor_3M_original, data1_swap_trade, date)\n",
    "        temp_book = pt.add_to_book(date, temp_book, model_swap_rates, data1_swap_trade, data1_libor_3M_original, weight_data, limit, nominal, step_float, step_fixed)\n",
    "        temp_book = pt.update_current_dirty_prices(long_date, temp_book, cub_libor, cub_swap, cub_ois, conv_float, conv_fixed, step_float, step_fixed)\n",
    "        book_dict[date] = temp_book\n",
    "        temp_book, closes_maturity = pt.clean_book_maturity(temp_book)\n",
    "        temp_book, closes_convergence = pt.clean_book_convergence(temp_book)\n",
    "        closed_trades.append([date, closes_convergence + closes_maturity])\n",
    "        temp_book = pt.update_latest_dirty_prices(long_date, temp_book, cub_libor, cub_swap, cub_ois, conv_float, conv_fixed, step_float, step_fixed)\n",
    "    else:\n",
    "        #long_date = data1_libor_3M_original[data1_libor_3M_original['date2']==date].values[0][0] # poista\n",
    "        temp_book = pt.update_book2(temp_book, data1_libor_3M_original, date)\n",
    "        #temp_book = pt.update_current_dirty_prices(long_date, temp_book, cub_libor, cub_swap, cub_ois, \"Act/360\", \"30/360\", 3, 6) # poista\n",
    "        book_dict[date] = temp_book\n",
    "        temp_book, closes_maturity = pt.clean_book_maturity(temp_book)\n",
    "        temp_book, closes_convergence = pt.clean_book_convergence(temp_book)\n",
    "        closed_trades.append([date, closes_convergence + closes_maturity])\n",
    "        #temp_book = pt.update_latest_dirty_prices(long_date, temp_book, cub_libor, cub_swap, cub_ois, \"Act/360\", \"30/360\", 3, 6) # poista\n",
    "closed_trades_df = pd.DataFrame(closed_trades, columns=['date','closed count'])"
   ]
  }
 ],
 "metadata": {
  "kernelspec": {
   "display_name": "Python 3 (ipykernel)",
   "language": "python",
   "name": "python3"
  },
  "language_info": {
   "codemirror_mode": {
    "name": "ipython",
    "version": 3
   },
   "file_extension": ".py",
   "mimetype": "text/x-python",
   "name": "python",
   "nbconvert_exporter": "python",
   "pygments_lexer": "ipython3",
   "version": "3.9.7"
  }
 },
 "nbformat": 4,
 "nbformat_minor": 5
}
