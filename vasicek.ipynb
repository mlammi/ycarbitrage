{
 "cells": [
  {
   "cell_type": "markdown",
   "id": "4e786134-3db6-4c78-85cb-871117aff5f6",
   "metadata": {},
   "source": [
    "**Calibration of Vasicek** <br>\n",
    "Nelder-Mead or L-BFGS-B method in optimization <br>\n",
    "60-month (5-year) calibration period <br>\n",
    "Initial parameters from Duarte, Longstaff, Yu (2006)"
   ]
  },
  {
   "cell_type": "code",
   "execution_count": 1,
   "id": "3525d48f-c679-466d-a50e-45879d6fd7c7",
   "metadata": {},
   "outputs": [],
   "source": [
    "# Importing necessary Python-files and data\n",
    "import vasicek as vc\n",
    "%run monthly_data.ipynb"
   ]
  },
  {
   "cell_type": "code",
   "execution_count": 1,
   "id": "0914812e-2984-4cd5-9335-b52ef0d42ab4",
   "metadata": {},
   "outputs": [],
   "source": [
    "# Initial parameters\n",
    "alpha = 0.0009503\n",
    "beta = 0.0113727\n",
    "sigma =  0.0548290\n",
    "mu =  0.0240306\n",
    "gamma = 0.4628664\n",
    "eta =  0.0257381\n",
    "\n",
    "k1 = beta\n",
    "theta1 = alpha/beta\n",
    "sigma1 = sigma\n",
    "k2 = gamma\n",
    "theta2 = mu/gamma\n",
    "sigma2 = eta"
   ]
  },
  {
   "cell_type": "code",
   "execution_count": 2,
   "id": "fed72d3a-101b-4d82-ab5d-c56024ac5985",
   "metadata": {},
   "outputs": [
    {
     "data": {
      "text/plain": [
       "0.0113727"
      ]
     },
     "execution_count": 2,
     "metadata": {},
     "output_type": "execute_result"
    }
   ],
   "source": [
    "k1"
   ]
  },
  {
   "cell_type": "code",
   "execution_count": 3,
   "id": "38d1300b-0279-486a-a6f6-da47b2c93d9b",
   "metadata": {},
   "outputs": [
    {
     "data": {
      "text/plain": [
       "0.0835597527412136"
      ]
     },
     "execution_count": 3,
     "metadata": {},
     "output_type": "execute_result"
    }
   ],
   "source": [
    "theta1"
   ]
  },
  {
   "cell_type": "code",
   "execution_count": 4,
   "id": "7c1e515c-e925-4e9a-beec-14f45c5393fd",
   "metadata": {},
   "outputs": [
    {
     "data": {
      "text/plain": [
       "0.054829"
      ]
     },
     "execution_count": 4,
     "metadata": {},
     "output_type": "execute_result"
    }
   ],
   "source": [
    "sigma1"
   ]
  },
  {
   "cell_type": "code",
   "execution_count": 5,
   "id": "3c62ff7e-753a-41a8-92b0-58379961a9b1",
   "metadata": {},
   "outputs": [
    {
     "data": {
      "text/plain": [
       "0.4628664"
      ]
     },
     "execution_count": 5,
     "metadata": {},
     "output_type": "execute_result"
    }
   ],
   "source": [
    "k2"
   ]
  },
  {
   "cell_type": "code",
   "execution_count": 6,
   "id": "9321dd8e-0b2b-4a78-b2f2-10ff1c495a5c",
   "metadata": {},
   "outputs": [
    {
     "data": {
      "text/plain": [
       "0.05191692462447047"
      ]
     },
     "execution_count": 6,
     "metadata": {},
     "output_type": "execute_result"
    }
   ],
   "source": [
    "theta2"
   ]
  },
  {
   "cell_type": "code",
   "execution_count": 7,
   "id": "aee4915c-2eee-4951-84cd-661bf2df3801",
   "metadata": {},
   "outputs": [
    {
     "data": {
      "text/plain": [
       "0.0257381"
      ]
     },
     "execution_count": 7,
     "metadata": {},
     "output_type": "execute_result"
    }
   ],
   "source": [
    "sigma2"
   ]
  },
  {
   "cell_type": "code",
   "execution_count": null,
   "id": "19b70b38-a88c-476f-be0c-352277eadd81",
   "metadata": {},
   "outputs": [
    {
     "name": "stdout",
     "output_type": "stream",
     "text": [
      "2012-01-31T00:00:00.000000000\n"
     ]
    }
   ],
   "source": [
    "model_swap_rates, parameter_data = vc.swap_rates_after_date(k1, theta1, sigma1, k2, theta2, sigma2, 0.5, '2012-01-31', 60, data1_swap_model)\n",
    "model_swap_rates"
   ]
  },
  {
   "cell_type": "code",
   "execution_count": null,
   "id": "10597741-b50d-4b94-b9b4-f5cd6029b2af",
   "metadata": {},
   "outputs": [],
   "source": [
    "# model_swap_rates, parameter_data = vc.same_parameters(k1, theta1, sigma1, k2, theta2, sigma2, 0.5, '2012-01-31', data1_swap_model)\n",
    "# model_swap_rates"
   ]
  },
  {
   "cell_type": "code",
   "execution_count": 6,
   "id": "d125c353-79d0-41c9-8ce6-a4fc42b13c98",
   "metadata": {},
   "outputs": [],
   "source": [
    "model_swap_rates.to_excel('rates_fullperiod_vasicek_mod.xlsx')\n",
    "parameter_data.to_excel('parameters_fullperiod_vasicek_mod.xlsx')"
   ]
  },
  {
   "cell_type": "code",
   "execution_count": null,
   "id": "fcd28a21-384b-4611-ae86-81905a8cd11e",
   "metadata": {},
   "outputs": [],
   "source": [
    "weight_data = vc.solve_w1w10_for_data(parameter_data, 0.5)\n",
    "weight_data.to_excel('fullperiod_weights_vasicek_mod.xlsx')\n",
    "weight_data"
   ]
  },
  {
   "cell_type": "code",
   "execution_count": null,
   "id": "14d9db54-5a34-47e0-b472-cb38ab09343d",
   "metadata": {},
   "outputs": [],
   "source": [
    "'''\n",
    "import matplotlib.pyplot as plt\n",
    "plt.plot(misprices*100)\n",
    "#plt.legend(misprices, bbox_to_anchor=(1, 1))\n",
    "plt.title('Mispricings 09/2011 - 12/2021')\n",
    "plt.ylabel('%')\n",
    "plt.savefig('Mispricings.eps')\n",
    "'''"
   ]
  },
  {
   "cell_type": "code",
   "execution_count": null,
   "id": "7bfa078d-2495-4b16-ab13-34e17c78cc49",
   "metadata": {},
   "outputs": [],
   "source": [
    "#parameter_data.to_excel('fullperiod_parameters.xlsx')\n",
    "#weight_data.to_excel('fullperiod_weights.xlsx')\n",
    "#model_swap_rates.to_excel('fullperiod_modelrates.xlsx')"
   ]
  }
 ],
 "metadata": {
  "kernelspec": {
   "display_name": "Python 3 (ipykernel)",
   "language": "python",
   "name": "python3"
  },
  "language_info": {
   "codemirror_mode": {
    "name": "ipython",
    "version": 3
   },
   "file_extension": ".py",
   "mimetype": "text/x-python",
   "name": "python",
   "nbconvert_exporter": "python",
   "pygments_lexer": "ipython3",
   "version": "3.9.7"
  }
 },
 "nbformat": 4,
 "nbformat_minor": 5
}
