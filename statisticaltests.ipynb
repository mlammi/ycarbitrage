{
 "cells": [
  {
   "cell_type": "code",
   "execution_count": 1,
   "id": "652466cf-00b1-463c-92ed-5696511052ff",
   "metadata": {},
   "outputs": [],
   "source": [
    "from matplotlib import pyplot as plt\n",
    "from statistics import mean\n",
    "from statistics import stdev\n",
    "from statistics import median\n",
    "from scipy.stats import skew\n",
    "from scipy.stats import kurtosis\n",
    "from scipy import stats\n",
    "import pandas as pd\n",
    "import statsmodels.formula.api as sm\n",
    "import statsmodels.stats.sandwich_covariance as sw\n",
    "import numpy as np\n",
    "import statsmodels as statsmodels\n",
    "import statsmodels.api as smf\n",
    "from statsmodels.graphics import tsaplots\n",
    "import matplotlib.pyplot as plt\n",
    "import seaborn as sns"
   ]
  },
  {
   "cell_type": "code",
   "execution_count": 2,
   "id": "9e14f631-8f5d-4842-af46-f2f1a721f585",
   "metadata": {},
   "outputs": [],
   "source": [
    "# Reading in daily USD data\n",
    "xls_file = pd.ExcelFile('statistical_tests.xlsx')\n",
    "\n",
    "# Parsing data\n",
    "full_ret = xls_file.parse('full')\n",
    "sub_ret = xls_file.parse('sub')"
   ]
  },
  {
   "cell_type": "code",
   "execution_count": 3,
   "id": "7ba435cf-938c-446d-b843-274fa31dbedd",
   "metadata": {},
   "outputs": [
    {
     "data": {
      "text/html": [
       "<div>\n",
       "<style scoped>\n",
       "    .dataframe tbody tr th:only-of-type {\n",
       "        vertical-align: middle;\n",
       "    }\n",
       "\n",
       "    .dataframe tbody tr th {\n",
       "        vertical-align: top;\n",
       "    }\n",
       "\n",
       "    .dataframe thead th {\n",
       "        text-align: right;\n",
       "    }\n",
       "</style>\n",
       "<table border=\"1\" class=\"dataframe\">\n",
       "  <thead>\n",
       "    <tr style=\"text-align: right;\">\n",
       "      <th></th>\n",
       "      <th>dates</th>\n",
       "      <th>SubCIRCoby5</th>\n",
       "      <th>SubCIRCoby20</th>\n",
       "      <th>SubVasiBFGS5</th>\n",
       "      <th>SubVasiBFGS20</th>\n",
       "      <th>SubCIRCoby5Mod</th>\n",
       "      <th>SubVasiCoby5Mod</th>\n",
       "    </tr>\n",
       "  </thead>\n",
       "  <tbody>\n",
       "    <tr>\n",
       "      <th>0</th>\n",
       "      <td>2015-01</td>\n",
       "      <td>0.000000</td>\n",
       "      <td>0.000000</td>\n",
       "      <td>0.000000</td>\n",
       "      <td>0.000000</td>\n",
       "      <td>0.000000</td>\n",
       "      <td>0.000000</td>\n",
       "    </tr>\n",
       "    <tr>\n",
       "      <th>1</th>\n",
       "      <td>2015-02</td>\n",
       "      <td>0.067770</td>\n",
       "      <td>0.067770</td>\n",
       "      <td>-0.077675</td>\n",
       "      <td>0.000000</td>\n",
       "      <td>0.095792</td>\n",
       "      <td>-0.089187</td>\n",
       "    </tr>\n",
       "    <tr>\n",
       "      <th>2</th>\n",
       "      <td>2015-03</td>\n",
       "      <td>-0.006709</td>\n",
       "      <td>-0.006709</td>\n",
       "      <td>-0.002788</td>\n",
       "      <td>0.000000</td>\n",
       "      <td>-0.013896</td>\n",
       "      <td>0.000000</td>\n",
       "    </tr>\n",
       "    <tr>\n",
       "      <th>3</th>\n",
       "      <td>2015-04</td>\n",
       "      <td>0.057008</td>\n",
       "      <td>0.057008</td>\n",
       "      <td>-0.045938</td>\n",
       "      <td>0.000000</td>\n",
       "      <td>0.062438</td>\n",
       "      <td>0.072480</td>\n",
       "    </tr>\n",
       "    <tr>\n",
       "      <th>4</th>\n",
       "      <td>2015-05</td>\n",
       "      <td>0.019959</td>\n",
       "      <td>0.019959</td>\n",
       "      <td>-0.017469</td>\n",
       "      <td>-0.027396</td>\n",
       "      <td>0.020722</td>\n",
       "      <td>0.023633</td>\n",
       "    </tr>\n",
       "    <tr>\n",
       "      <th>...</th>\n",
       "      <td>...</td>\n",
       "      <td>...</td>\n",
       "      <td>...</td>\n",
       "      <td>...</td>\n",
       "      <td>...</td>\n",
       "      <td>...</td>\n",
       "      <td>...</td>\n",
       "    </tr>\n",
       "    <tr>\n",
       "      <th>79</th>\n",
       "      <td>2021-08</td>\n",
       "      <td>0.003050</td>\n",
       "      <td>0.008930</td>\n",
       "      <td>-0.015014</td>\n",
       "      <td>-0.015014</td>\n",
       "      <td>-0.000726</td>\n",
       "      <td>0.009112</td>\n",
       "    </tr>\n",
       "    <tr>\n",
       "      <th>80</th>\n",
       "      <td>2021-09</td>\n",
       "      <td>0.026144</td>\n",
       "      <td>0.066832</td>\n",
       "      <td>-0.068537</td>\n",
       "      <td>-0.068537</td>\n",
       "      <td>0.028329</td>\n",
       "      <td>0.027463</td>\n",
       "    </tr>\n",
       "    <tr>\n",
       "      <th>81</th>\n",
       "      <td>2021-10</td>\n",
       "      <td>-0.041395</td>\n",
       "      <td>-0.061696</td>\n",
       "      <td>0.074084</td>\n",
       "      <td>0.074084</td>\n",
       "      <td>-0.041405</td>\n",
       "      <td>-0.040620</td>\n",
       "    </tr>\n",
       "    <tr>\n",
       "      <th>82</th>\n",
       "      <td>2021-11</td>\n",
       "      <td>-0.013864</td>\n",
       "      <td>-0.015744</td>\n",
       "      <td>0.010180</td>\n",
       "      <td>0.010180</td>\n",
       "      <td>-0.012727</td>\n",
       "      <td>-0.016299</td>\n",
       "    </tr>\n",
       "    <tr>\n",
       "      <th>83</th>\n",
       "      <td>2021-12</td>\n",
       "      <td>-0.025629</td>\n",
       "      <td>-0.027656</td>\n",
       "      <td>0.029607</td>\n",
       "      <td>0.029607</td>\n",
       "      <td>-0.016279</td>\n",
       "      <td>-0.029247</td>\n",
       "    </tr>\n",
       "  </tbody>\n",
       "</table>\n",
       "<p>84 rows × 7 columns</p>\n",
       "</div>"
      ],
      "text/plain": [
       "      dates  SubCIRCoby5  SubCIRCoby20  SubVasiBFGS5  SubVasiBFGS20  \\\n",
       "0   2015-01     0.000000      0.000000      0.000000       0.000000   \n",
       "1   2015-02     0.067770      0.067770     -0.077675       0.000000   \n",
       "2   2015-03    -0.006709     -0.006709     -0.002788       0.000000   \n",
       "3   2015-04     0.057008      0.057008     -0.045938       0.000000   \n",
       "4   2015-05     0.019959      0.019959     -0.017469      -0.027396   \n",
       "..      ...          ...           ...           ...            ...   \n",
       "79  2021-08     0.003050      0.008930     -0.015014      -0.015014   \n",
       "80  2021-09     0.026144      0.066832     -0.068537      -0.068537   \n",
       "81  2021-10    -0.041395     -0.061696      0.074084       0.074084   \n",
       "82  2021-11    -0.013864     -0.015744      0.010180       0.010180   \n",
       "83  2021-12    -0.025629     -0.027656      0.029607       0.029607   \n",
       "\n",
       "    SubCIRCoby5Mod  SubVasiCoby5Mod  \n",
       "0         0.000000         0.000000  \n",
       "1         0.095792        -0.089187  \n",
       "2        -0.013896         0.000000  \n",
       "3         0.062438         0.072480  \n",
       "4         0.020722         0.023633  \n",
       "..             ...              ...  \n",
       "79       -0.000726         0.009112  \n",
       "80        0.028329         0.027463  \n",
       "81       -0.041405        -0.040620  \n",
       "82       -0.012727        -0.016299  \n",
       "83       -0.016279        -0.029247  \n",
       "\n",
       "[84 rows x 7 columns]"
      ]
     },
     "execution_count": 3,
     "metadata": {},
     "output_type": "execute_result"
    }
   ],
   "source": [
    "sub_ret"
   ]
  },
  {
   "cell_type": "code",
   "execution_count": 4,
   "id": "22251714-1a1b-43ad-8a8f-44762e99a592",
   "metadata": {},
   "outputs": [],
   "source": [
    "full_ret_test = sub_ret['SubCIRCoby5Mod'] # THIS NEEDS TO BE ADJUSTED\n",
    "full_ret_test = pd.array(full_ret_test[1:])"
   ]
  },
  {
   "cell_type": "code",
   "execution_count": 5,
   "id": "b01d7e15-b05c-414e-9654-a2fdb8e7198b",
   "metadata": {},
   "outputs": [
    {
     "data": {
      "text/plain": [
       "83"
      ]
     },
     "execution_count": 5,
     "metadata": {},
     "output_type": "execute_result"
    }
   ],
   "source": [
    "len(full_ret_test)"
   ]
  },
  {
   "cell_type": "code",
   "execution_count": 6,
   "id": "a85eed6b-0d7c-4b1d-a5e1-f661adfeb409",
   "metadata": {},
   "outputs": [],
   "source": [
    "bpsmult = 10000"
   ]
  },
  {
   "cell_type": "code",
   "execution_count": 7,
   "id": "77796060-8f39-45e8-9e9d-fcb95cb4cadd",
   "metadata": {},
   "outputs": [
    {
     "data": {
      "text/plain": [
       "14.220001150302005"
      ]
     },
     "execution_count": 7,
     "metadata": {},
     "output_type": "execute_result"
    }
   ],
   "source": [
    "mean_ret = mean(full_ret_test)\n",
    "mean_ret * bpsmult"
   ]
  },
  {
   "cell_type": "code",
   "execution_count": 8,
   "id": "f3b2566b-336a-48c1-831e-9eea6500cb42",
   "metadata": {},
   "outputs": [
    {
     "data": {
      "text/html": [
       "<table class=\"simpletable\">\n",
       "<caption>OLS Regression Results</caption>\n",
       "<tr>\n",
       "  <th>Dep. Variable:</th>          <td>rets</td>       <th>  R-squared:         </th> <td>   0.000</td>\n",
       "</tr>\n",
       "<tr>\n",
       "  <th>Model:</th>                   <td>OLS</td>       <th>  Adj. R-squared:    </th> <td>   0.000</td>\n",
       "</tr>\n",
       "<tr>\n",
       "  <th>Method:</th>             <td>Least Squares</td>  <th>  F-statistic:       </th> <td> 0.07648</td>\n",
       "</tr>\n",
       "<tr>\n",
       "  <th>Date:</th>             <td>Sun, 24 Jul 2022</td> <th>  Prob (F-statistic):</th>  <td> 0.783</td> \n",
       "</tr>\n",
       "<tr>\n",
       "  <th>Time:</th>                 <td>16:18:23</td>     <th>  Log-Likelihood:    </th> <td>  143.76</td>\n",
       "</tr>\n",
       "<tr>\n",
       "  <th>No. Observations:</th>      <td>    83</td>      <th>  AIC:               </th> <td>  -285.5</td>\n",
       "</tr>\n",
       "<tr>\n",
       "  <th>Df Residuals:</th>          <td>    82</td>      <th>  BIC:               </th> <td>  -283.1</td>\n",
       "</tr>\n",
       "<tr>\n",
       "  <th>Df Model:</th>              <td>     0</td>      <th>                     </th>     <td> </td>   \n",
       "</tr>\n",
       "<tr>\n",
       "  <th>Covariance Type:</th>         <td>HAC</td>       <th>                     </th>     <td> </td>   \n",
       "</tr>\n",
       "</table>\n",
       "<table class=\"simpletable\">\n",
       "<tr>\n",
       "      <td></td>         <th>coef</th>     <th>std err</th>      <th>z</th>      <th>P>|z|</th>  <th>[0.025</th>    <th>0.975]</th>  \n",
       "</tr>\n",
       "<tr>\n",
       "  <th>Intercept</th> <td>    0.0007</td> <td>    0.003</td> <td>    0.277</td> <td> 0.782</td> <td>   -0.004</td> <td>    0.006</td>\n",
       "</tr>\n",
       "<tr>\n",
       "  <th>one</th>       <td>    0.0007</td> <td>    0.003</td> <td>    0.277</td> <td> 0.782</td> <td>   -0.004</td> <td>    0.006</td>\n",
       "</tr>\n",
       "</table>\n",
       "<table class=\"simpletable\">\n",
       "<tr>\n",
       "  <th>Omnibus:</th>       <td>13.843</td> <th>  Durbin-Watson:     </th> <td>   1.545</td>\n",
       "</tr>\n",
       "<tr>\n",
       "  <th>Prob(Omnibus):</th> <td> 0.001</td> <th>  Jarque-Bera (JB):  </th> <td>  30.168</td>\n",
       "</tr>\n",
       "<tr>\n",
       "  <th>Skew:</th>          <td> 0.504</td> <th>  Prob(JB):          </th> <td>2.81e-07</td>\n",
       "</tr>\n",
       "<tr>\n",
       "  <th>Kurtosis:</th>      <td> 5.776</td> <th>  Cond. No.          </th> <td>8.71e+15</td>\n",
       "</tr>\n",
       "</table><br/><br/>Notes:<br/>[1] Standard Errors are heteroscedasticity and autocorrelation robust (HAC) using 1 lags and without small sample correction<br/>[2] The smallest eigenvalue is 2.19e-30. This might indicate that there are<br/>strong multicollinearity problems or that the design matrix is singular."
      ],
      "text/plain": [
       "<class 'statsmodels.iolib.summary.Summary'>\n",
       "\"\"\"\n",
       "                            OLS Regression Results                            \n",
       "==============================================================================\n",
       "Dep. Variable:                   rets   R-squared:                       0.000\n",
       "Model:                            OLS   Adj. R-squared:                  0.000\n",
       "Method:                 Least Squares   F-statistic:                   0.07648\n",
       "Date:                Sun, 24 Jul 2022   Prob (F-statistic):              0.783\n",
       "Time:                        16:18:23   Log-Likelihood:                 143.76\n",
       "No. Observations:                  83   AIC:                            -285.5\n",
       "Df Residuals:                      82   BIC:                            -283.1\n",
       "Df Model:                           0                                         \n",
       "Covariance Type:                  HAC                                         \n",
       "==============================================================================\n",
       "                 coef    std err          z      P>|z|      [0.025      0.975]\n",
       "------------------------------------------------------------------------------\n",
       "Intercept      0.0007      0.003      0.277      0.782      -0.004       0.006\n",
       "one            0.0007      0.003      0.277      0.782      -0.004       0.006\n",
       "==============================================================================\n",
       "Omnibus:                       13.843   Durbin-Watson:                   1.545\n",
       "Prob(Omnibus):                  0.001   Jarque-Bera (JB):               30.168\n",
       "Skew:                           0.504   Prob(JB):                     2.81e-07\n",
       "Kurtosis:                       5.776   Cond. No.                     8.71e+15\n",
       "==============================================================================\n",
       "\n",
       "Notes:\n",
       "[1] Standard Errors are heteroscedasticity and autocorrelation robust (HAC) using 1 lags and without small sample correction\n",
       "[2] The smallest eigenvalue is 2.19e-30. This might indicate that there are\n",
       "strong multicollinearity problems or that the design matrix is singular.\n",
       "\"\"\""
      ]
     },
     "execution_count": 8,
     "metadata": {},
     "output_type": "execute_result"
    }
   ],
   "source": [
    "# Test statistics with HAC robust standard errors\n",
    "mkt_data = pd.DataFrame(full_ret_test, columns=['rets'])\n",
    "#one = np.ones(len(monthly_mean_ret))\n",
    "mkt_data['one'] = 1\n",
    "model = sm.ols( formula = 'rets ~ one',data = mkt_data).fit(cov_type='HAC', cov_kwds={'maxlags': 1})\n",
    "#model = sm.ols( formula = 'rets ~ one',data = mkt_data).fit()\n",
    "model.summary()"
   ]
  },
  {
   "cell_type": "code",
   "execution_count": 9,
   "id": "9e519682-325e-48e6-831c-7fa10a0e3a07",
   "metadata": {},
   "outputs": [
    {
     "data": {
      "text/plain": [
       "83.0"
      ]
     },
     "execution_count": 9,
     "metadata": {},
     "output_type": "execute_result"
    }
   ],
   "source": [
    "n = model.nobs\n",
    "n"
   ]
  },
  {
   "cell_type": "markdown",
   "id": "737d1356-b436-4c13-89e9-69133990df05",
   "metadata": {},
   "source": [
    "**Confidence interval for mean**"
   ]
  },
  {
   "cell_type": "code",
   "execution_count": 10,
   "id": "66560985-a227-43f8-b62d-5718972c6fca",
   "metadata": {},
   "outputs": [
    {
     "data": {
      "text/plain": [
       "25.709282652651133"
      ]
     },
     "execution_count": 10,
     "metadata": {},
     "output_type": "execute_result"
    }
   ],
   "source": [
    "# HAC robust standard errors in basis points\n",
    "HAC = model.bse[0]\n",
    "HAC * bpsmult"
   ]
  },
  {
   "cell_type": "code",
   "execution_count": 11,
   "id": "b743082d-dff5-4e15-8433-0159a2d4faee",
   "metadata": {},
   "outputs": [
    {
     "data": {
      "text/plain": [
       "-36.17019284889422"
      ]
     },
     "execution_count": 11,
     "metadata": {},
     "output_type": "execute_result"
    }
   ],
   "source": [
    "# Lower bound for mean confidence interval in basis points\n",
    "conf_mult = 1.96\n",
    "(mean_ret - conf_mult * HAC) * bpsmult"
   ]
  },
  {
   "cell_type": "code",
   "execution_count": 12,
   "id": "e2931548-b716-4878-9ab1-238efe751253",
   "metadata": {},
   "outputs": [
    {
     "data": {
      "text/plain": [
       "64.61019514949822"
      ]
     },
     "execution_count": 12,
     "metadata": {},
     "output_type": "execute_result"
    }
   ],
   "source": [
    "# Upper bound for mean confidence interval in basis points\n",
    "(mean_ret + conf_mult * HAC) * bpsmult"
   ]
  },
  {
   "cell_type": "code",
   "execution_count": 13,
   "id": "9cf5776d-14e0-4754-99ba-ec1d54fdf85c",
   "metadata": {},
   "outputs": [
    {
     "data": {
      "text/plain": [
       "50.39019399919622"
      ]
     },
     "execution_count": 13,
     "metadata": {},
     "output_type": "execute_result"
    }
   ],
   "source": [
    "#Margin of error in basis points\n",
    "(conf_mult * HAC) * bpsmult"
   ]
  },
  {
   "cell_type": "markdown",
   "id": "432b15cf-ef40-4cbc-85fc-ec4038018988",
   "metadata": {},
   "source": [
    "**T-statistic, noncorrected skew and noncorrected kurtosis**"
   ]
  },
  {
   "cell_type": "code",
   "execution_count": 14,
   "id": "7075dfb7-009b-4a12-9f9c-75f1669ed840",
   "metadata": {},
   "outputs": [
    {
     "data": {
      "text/plain": [
       "0.5531076593004683"
      ]
     },
     "execution_count": 14,
     "metadata": {},
     "output_type": "execute_result"
    }
   ],
   "source": [
    "# T-statistic\n",
    "mean_ret / HAC"
   ]
  },
  {
   "cell_type": "code",
   "execution_count": 15,
   "id": "4ec6dbdc-6291-4093-8407-72d45ee27201",
   "metadata": {},
   "outputs": [
    {
     "data": {
      "text/plain": [
       "0.503614459452369"
      ]
     },
     "execution_count": 15,
     "metadata": {},
     "output_type": "execute_result"
    }
   ],
   "source": [
    "# Non-corr skewness\n",
    "skew(full_ret_test)"
   ]
  },
  {
   "cell_type": "code",
   "execution_count": 16,
   "id": "ddf7cc6d-24ed-40ed-8ac2-206eb228b619",
   "metadata": {},
   "outputs": [
    {
     "data": {
      "text/plain": [
       "5.776487641301784"
      ]
     },
     "execution_count": 16,
     "metadata": {},
     "output_type": "execute_result"
    }
   ],
   "source": [
    "# Non-corr kurtosis\n",
    "kurtosis(full_ret_test, fisher=False)"
   ]
  },
  {
   "cell_type": "markdown",
   "id": "22ee7813-6400-42f4-a547-7971bf625c31",
   "metadata": {},
   "source": [
    "**Non corrected standard error and t-statistic**"
   ]
  },
  {
   "cell_type": "code",
   "execution_count": 17,
   "id": "70d8be68-bae1-4e0e-b877-d54d1f40c34c",
   "metadata": {},
   "outputs": [
    {
     "data": {
      "text/plain": [
       "47.27574808629657"
      ]
     },
     "execution_count": 17,
     "metadata": {},
     "output_type": "execute_result"
    }
   ],
   "source": [
    "# Non-corr standard error in basis points\n",
    "(stdev(full_ret_test)/np.sqrt(n)) * bpsmult"
   ]
  },
  {
   "cell_type": "code",
   "execution_count": 18,
   "id": "e36613cc-7ae8-410b-8a8c-beb54966df2e",
   "metadata": {},
   "outputs": [
    {
     "data": {
      "text/plain": [
       "0.004727574808629658"
      ]
     },
     "execution_count": 18,
     "metadata": {},
     "output_type": "execute_result"
    }
   ],
   "source": [
    "# Backup checking for standard error\n",
    "from scipy.stats import sem\n",
    "sem(full_ret_test)"
   ]
  },
  {
   "cell_type": "code",
   "execution_count": 19,
   "id": "b981ab79-85e2-4dd0-bc79-58b5bb266f48",
   "metadata": {},
   "outputs": [
    {
     "data": {
      "text/plain": [
       "0.30078849570703753"
      ]
     },
     "execution_count": 19,
     "metadata": {},
     "output_type": "execute_result"
    }
   ],
   "source": [
    "# Non-corr t-statistic\n",
    "mean_ret /(stdev(full_ret_test)/np.sqrt(n))"
   ]
  },
  {
   "cell_type": "code",
   "execution_count": 20,
   "id": "a3203fb5-0874-4ee6-9f63-080ba8db25e5",
   "metadata": {},
   "outputs": [
    {
     "data": {
      "text/plain": [
       "Ttest_1sampResult(statistic=0.30078849570703753, pvalue=0.7643371182262378)"
      ]
     },
     "execution_count": 20,
     "metadata": {},
     "output_type": "execute_result"
    }
   ],
   "source": [
    "# Backup checking for non-corrected t-stat\n",
    "stats.ttest_1samp(full_ret_test, popmean=0, axis=None)"
   ]
  },
  {
   "cell_type": "markdown",
   "id": "fc3001bc-1abd-41b4-a0bc-a4ab3120da31",
   "metadata": {},
   "source": [
    "**Confidence interval for skewness**"
   ]
  },
  {
   "cell_type": "code",
   "execution_count": 21,
   "id": "0d3fe28e-a478-4075-bf1e-441b199f2e47",
   "metadata": {},
   "outputs": [
    {
     "data": {
      "text/plain": [
       "0.5177812156787753"
      ]
     },
     "execution_count": 21,
     "metadata": {},
     "output_type": "execute_result"
    }
   ],
   "source": [
    "# Margin of errro for skewness confidence interval\n",
    "skew_margin = conf_mult * np.sqrt((6*n*(n-1))/((n-2)*(n+1)*(n+3)))\n",
    "skew_margin"
   ]
  },
  {
   "cell_type": "code",
   "execution_count": 26,
   "id": "c838b93a-9ddd-468f-9bb8-c8da9aaa70d5",
   "metadata": {},
   "outputs": [
    {
     "data": {
      "text/plain": [
       "-0.013781215678775327"
      ]
     },
     "execution_count": 26,
     "metadata": {},
     "output_type": "execute_result"
    }
   ],
   "source": [
    "# lower bound for skewness confidence interval. SKEW NEEDS TO BE MANUALLY ADJUSTED\n",
    "0.504 - skew_margin"
   ]
  },
  {
   "cell_type": "code",
   "execution_count": 27,
   "id": "e2ae715c-4801-463a-b8a4-c3dc90fda7ac",
   "metadata": {},
   "outputs": [
    {
     "data": {
      "text/plain": [
       "1.0217812156787753"
      ]
     },
     "execution_count": 27,
     "metadata": {},
     "output_type": "execute_result"
    }
   ],
   "source": [
    "# Upper bound for skewness confidence interval. SKEW NEEDS TO BE MANUALLY ADJUSTED\n",
    "0.504 + skew_margin"
   ]
  },
  {
   "cell_type": "markdown",
   "id": "b5248009-27ab-42b9-a548-26a8a8af299f",
   "metadata": {},
   "source": [
    "**Noncorr LB, UB for mean of returns**"
   ]
  },
  {
   "cell_type": "code",
   "execution_count": 53,
   "id": "da303cec-d08a-453c-9108-e2bdd2058036",
   "metadata": {},
   "outputs": [],
   "source": [
    "mean_noncorr = 14.220\n",
    "stderror_noncorr = 47.27575"
   ]
  },
  {
   "cell_type": "code",
   "execution_count": 54,
   "id": "9db63fa7-3832-4103-8b56-b3525926fc50",
   "metadata": {},
   "outputs": [
    {
     "data": {
      "text/plain": [
       "-78.44047"
      ]
     },
     "execution_count": 54,
     "metadata": {},
     "output_type": "execute_result"
    }
   ],
   "source": [
    "#Low bound\n",
    "mean_noncorr - conf_mult * stderror_noncorr"
   ]
  },
  {
   "cell_type": "code",
   "execution_count": 55,
   "id": "1f84500a-b250-47c4-815e-c0dc9fd2c969",
   "metadata": {},
   "outputs": [
    {
     "data": {
      "text/plain": [
       "106.88047"
      ]
     },
     "execution_count": 55,
     "metadata": {},
     "output_type": "execute_result"
    }
   ],
   "source": [
    "#Upper bound\n",
    "mean_noncorr + conf_mult * stderror_noncorr"
   ]
  },
  {
   "cell_type": "code",
   "execution_count": null,
   "id": "42f73d9b-e5ea-400b-8505-d48130ccef63",
   "metadata": {},
   "outputs": [],
   "source": []
  },
  {
   "cell_type": "code",
   "execution_count": null,
   "id": "b954df5b-848e-43f4-8461-36d706ce308c",
   "metadata": {},
   "outputs": [],
   "source": []
  },
  {
   "cell_type": "code",
   "execution_count": 24,
   "id": "3b84d969-d9d5-427a-b5f5-b7d58c246cdd",
   "metadata": {},
   "outputs": [
    {
     "data": {
      "text/plain": [
       "'\\nimport rpy2.robjects as robjects\\nfrom rpy2.robjects.packages import importr\\nDescTools = importr(\\'DescTools\\')\\n\"\"\" You will probably need this if you want to work with numpy arrays\"\"\"\\nimport rpy2.robjects.numpy2ri\\nrpy2.robjects.numpy2ri.activate()\\n\\n\\ndef compute_skew(data, confidence_level=0.99):\\n    \"\"\" Compute the skew and confidence interval using rpy2, DescTools\\n        @param data\\n        @return dict with keys: skew, skew_ci_lower, skew_ci_upper\"\"\"\\n    d = {}\\n    d[\"skew\"], d[\"skew_ci_lower\"], d[\"skew_ci_upper\"] = DescTools.Skew(data, conf_level=confidence_level)\\n    return d\\n\\n\"\"\" Call the function on your data (assuming that is saved in a variable named sample)\"\"\"\\nprint(compute_skew(sample))\\n'"
      ]
     },
     "execution_count": 24,
     "metadata": {},
     "output_type": "execute_result"
    }
   ],
   "source": [
    "'''\n",
    "import rpy2.robjects as robjects\n",
    "from rpy2.robjects.packages import importr\n",
    "DescTools = importr('DescTools')\n",
    "\"\"\" You will probably need this if you want to work with numpy arrays\"\"\"\n",
    "import rpy2.robjects.numpy2ri\n",
    "rpy2.robjects.numpy2ri.activate()\n",
    "\n",
    "\n",
    "def compute_skew(data, confidence_level=0.99):\n",
    "    \"\"\" Compute the skew and confidence interval using rpy2, DescTools\n",
    "        @param data\n",
    "        @return dict with keys: skew, skew_ci_lower, skew_ci_upper\"\"\"\n",
    "    d = {}\n",
    "    d[\"skew\"], d[\"skew_ci_lower\"], d[\"skew_ci_upper\"] = DescTools.Skew(data, conf_level=confidence_level)\n",
    "    return d\n",
    "\n",
    "\"\"\" Call the function on your data (assuming that is saved in a variable named sample)\"\"\"\n",
    "print(compute_skew(sample))\n",
    "'''"
   ]
  },
  {
   "cell_type": "code",
   "execution_count": 25,
   "id": "b98a28fd-5144-48b0-9cc9-bdc029060a0c",
   "metadata": {},
   "outputs": [
    {
     "data": {
      "text/plain": [
       "\"\\nmodel = sm.ols( formula = 'rets ~ one',data = mkt_data).fit()\\nnew = model.get_robustcov_results(cov_type='HAC',maxlags=1)\\nT_test = model.t_test(new.params) \\nprint(T_test)\\n\""
      ]
     },
     "execution_count": 25,
     "metadata": {},
     "output_type": "execute_result"
    }
   ],
   "source": [
    "'''\n",
    "model = sm.ols( formula = 'rets ~ one',data = mkt_data).fit()\n",
    "new = model.get_robustcov_results(cov_type='HAC',maxlags=1)\n",
    "T_test = model.t_test(new.params) \n",
    "print(T_test)\n",
    "'''"
   ]
  }
 ],
 "metadata": {
  "kernelspec": {
   "display_name": "Python 3 (ipykernel)",
   "language": "python",
   "name": "python3"
  },
  "language_info": {
   "codemirror_mode": {
    "name": "ipython",
    "version": 3
   },
   "file_extension": ".py",
   "mimetype": "text/x-python",
   "name": "python",
   "nbconvert_exporter": "python",
   "pygments_lexer": "ipython3",
   "version": "3.9.7"
  }
 },
 "nbformat": 4,
 "nbformat_minor": 5
}
