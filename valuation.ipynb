{
 "cells": [
  {
   "cell_type": "code",
   "execution_count": 1,
   "id": "c231b5b2-90a5-457d-977e-9c1082e9edfe",
   "metadata": {},
   "outputs": [],
   "source": [
    "import pandas as pd\n",
    "import numpy as np\n",
    "from datetime import datetime\n",
    "from dateutil import parser\n",
    "from dateutil.relativedelta import relativedelta\n",
    "import valuation as vn"
   ]
  },
  {
   "cell_type": "code",
   "execution_count": 2,
   "id": "8742072a-63b6-4431-a194-fb11d698e048",
   "metadata": {},
   "outputs": [
    {
     "name": "stderr",
     "output_type": "stream",
     "text": [
      "C:\\Users\\Miro_\\anaconda3\\lib\\site-packages\\pandas\\core\\indexing.py:1773: SettingWithCopyWarning: \n",
      "A value is trying to be set on a copy of a slice from a DataFrame.\n",
      "Try using .loc[row_indexer,col_indexer] = value instead\n",
      "\n",
      "See the caveats in the documentation: https://pandas.pydata.org/pandas-docs/stable/user_guide/indexing.html#returning-a-view-versus-a-copy\n",
      "  self._setitem_single_column(ilocs[0], value, pi)\n"
     ]
    }
   ],
   "source": [
    "%run data_usd_monthly.ipynb"
   ]
  },
  {
   "cell_type": "code",
   "execution_count": 3,
   "id": "124f7900-3a78-481b-ac6d-c879e8704ce5",
   "metadata": {},
   "outputs": [],
   "source": [
    "bootois = vn.bootstrap_ois(data1_ois, \"Act/360\")\n",
    "cubois =  vn.cubic_ois(bootois)\n",
    "cublibor = vn.cubic_libor(data1_libor)\n",
    "cubswap = vn.cubic_swap(data1_swap_trade)"
   ]
  },
  {
   "cell_type": "code",
   "execution_count": 4,
   "id": "93c4d1f3-3b47-42d7-b8e4-9a0ddf912c31",
   "metadata": {},
   "outputs": [],
   "source": [
    "xls_tied = pd.ExcelFile('smith_test.xlsx')\n",
    "\n",
    "swap = xls_tied.parse('swap')\n",
    "ois = xls_tied.parse('ois')\n",
    "libor = xls_tied.parse('libor')\n",
    "data_test = xls_tied.parse('testaus')\n",
    "\n",
    "paiva = parser.parse('2021-03-01')"
   ]
  },
  {
   "cell_type": "code",
   "execution_count": 5,
   "id": "79aa5654-a1b7-43b9-a0f3-d0ed43c66985",
   "metadata": {},
   "outputs": [
    {
     "data": {
      "text/plain": [
       "[0.005,\n",
       " 0.01498594704010159,\n",
       " 0.0280089068792058,\n",
       " 0.035886838141016966,\n",
       " 0.038962045175269154,\n",
       " 0.04388565109083511,\n",
       " 0.05072224830635999,\n",
       " 0.05767840882496165]"
      ]
     },
     "execution_count": 5,
     "metadata": {},
     "output_type": "execute_result"
    }
   ],
   "source": [
    "vn.ifrs(paiva, 3, 24, libor, ois, swap, 3, \"Act/360\", \"Act/360\")"
   ]
  },
  {
   "cell_type": "code",
   "execution_count": 8,
   "id": "f90d709e-25f9-4cfd-b3dd-4976fb5eb7f5",
   "metadata": {},
   "outputs": [
    {
     "data": {
      "text/plain": [
       "100989658.465"
      ]
     },
     "execution_count": 8,
     "metadata": {},
     "output_type": "execute_result"
    }
   ],
   "source": [
    "a_val = vn.valuate_float(paiva, 0.005, libor, ois, swap, 3, 24, 100000000, 3, \"Act/360\", \"Act/360\")\n",
    "a_val"
   ]
  },
  {
   "cell_type": "code",
   "execution_count": 7,
   "id": "2262c530-8d8a-40ed-93d2-4be7dce600a6",
   "metadata": {},
   "outputs": [
    {
     "data": {
      "text/plain": [
       "104671232.2135"
      ]
     },
     "execution_count": 7,
     "metadata": {},
     "output_type": "execute_result"
    }
   ],
   "source": [
    "b_val = vn.valuate_fixed(paiva, 0.0526, ois, 3, 24, 100000000, 3, \"Act/360\")\n",
    "b_val"
   ]
  }
 ],
 "metadata": {
  "kernelspec": {
   "display_name": "Python 3 (ipykernel)",
   "language": "python",
   "name": "python3"
  },
  "language_info": {
   "codemirror_mode": {
    "name": "ipython",
    "version": 3
   },
   "file_extension": ".py",
   "mimetype": "text/x-python",
   "name": "python",
   "nbconvert_exporter": "python",
   "pygments_lexer": "ipython3",
   "version": "3.9.7"
  }
 },
 "nbformat": 4,
 "nbformat_minor": 5
}
